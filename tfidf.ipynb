{
 "cells": [
  {
   "cell_type": "markdown",
   "metadata": {
    "id": "sVltd6Uuw07e"
   },
   "source": [
    "# TFIDF"
   ]
  },
  {
   "cell_type": "markdown",
   "metadata": {
    "id": "s5p3unGaw07j"
   },
   "source": [
    "### Libraries"
   ]
  },
  {
   "cell_type": "code",
   "execution_count": 1,
   "metadata": {
    "colab": {
     "base_uri": "https://localhost:8080/"
    },
    "id": "Rk6dVuOvw07k",
    "outputId": "f1169004-1bc3-4840-ebd2-c592d9530bfe"
   },
   "outputs": [],
   "source": [
    "!pip install youtokentome\n",
    "!pip install hazm\n",
    "! pip install gdown\n",
    "# fasttext\n",
    "!git clone https://github.com/facebookresearch/fastText.git \n",
    "!cd fastText && pip install ."
   ]
  },
  {
   "cell_type": "code",
   "execution_count": 31,
   "metadata": {
    "id": "nA09SVVuw07l"
   },
   "outputs": [],
   "source": [
    "import os\n",
    "import numpy as np\n",
    "import codecs\n",
    "import hazm\n",
    "import re\n",
    "from sklearn.feature_extraction.text import TfidfVectorizer\n",
    "from sklearn.metrics.pairwise import cosine_similarity\n",
    "import youtokentome as yttm\n",
    "import fasttext.util\n",
    "import fasttext"
   ]
  },
  {
   "cell_type": "markdown",
   "metadata": {
    "id": "s4GMQEFEtgPJ"
   },
   "source": [
    "### Get The Skip-gram Fasttext Model"
   ]
  },
  {
   "cell_type": "code",
   "execution_count": 32,
   "metadata": {
    "id": "tNcHShmitlF4"
   },
   "outputs": [],
   "source": [
    "SKIPGRAM_MODEL_FILE_ID = '1wPnMG9_GNUVdSgbznQziQc5nMWI3QKNz'"
   ]
  },
  {
   "cell_type": "code",
   "execution_count": 2,
   "metadata": {
    "colab": {
     "base_uri": "https://localhost:8080/"
    },
    "id": "_cDhxwPatm5N",
    "outputId": "3521df13-bb90-4296-ba7d-86b45573a94d"
   },
   "outputs": [],
   "source": [
    "# Let's explore the SKIPGRAM Model\n",
    "\n",
    "!gdown --id $SKIPGRAM_MODEL_FILE_ID "
   ]
  },
  {
   "cell_type": "code",
   "execution_count": 34,
   "metadata": {
    "id": "dc2umNJytpan"
   },
   "outputs": [],
   "source": [
    "# loading the Model\n",
    "model_skipgram = fasttext.load_model('farsi-dedup-skipgram.bin')\n",
    "\n",
    "# official persian fasttext\n",
    "# !wget https://dl.fbaipublicfiles.com/fasttext/vectors-crawl/cc.fa.300.bin.gz\n",
    "# !gunzip cc.fa.300.bin.gz\n",
    "# model_skipgram = fasttext.load_model('cc.fa.300.bin')"
   ]
  },
  {
   "cell_type": "markdown",
   "metadata": {
    "id": "2s7Jtz8xAsiW"
   },
   "source": [
    "### Download Data"
   ]
  },
  {
   "cell_type": "code",
   "execution_count": 3,
   "metadata": {
    "colab": {
     "base_uri": "https://localhost:8080/"
    },
    "id": "NSJIlsg1xOZk",
    "outputId": "d26ac47e-e398-4c29-a903-74517f5c39ff"
   },
   "outputs": [],
   "source": [
    "! wget https://raw.githubusercontent.com/language-ml/2-LM-embedding-projects/main/problem3/evaluation_IR.yml -P ./data\n",
    "! wget https://github.com/language-ml/2-LM-embedding-projects/raw/main/problem3/doc_collection.zip -P ./data\n",
    "! unzip ./data/doc_collection.zip -d ./data\n",
    "! wget https://raw.githubusercontent.com/SajjadMb/Masnavi_NLP_Toolkit/main/stopwords.txt -P ./data"
   ]
  },
  {
   "cell_type": "markdown",
   "metadata": {
    "id": "CUfM9H3pw07l"
   },
   "source": [
    "### Read data"
   ]
  },
  {
   "cell_type": "markdown",
   "metadata": {
    "id": "PG5LZ9a4w07m"
   },
   "source": [
    "set path of data in `PATH` variable"
   ]
  },
  {
   "cell_type": "code",
   "execution_count": 36,
   "metadata": {
    "id": "k9HQ4Tk0w07m"
   },
   "outputs": [],
   "source": [
    "PATH = './data/IR_dataset/'\n",
    "PATH = PATH.rstrip('/')"
   ]
  },
  {
   "cell_type": "markdown",
   "metadata": {
    "id": "WXNvbgw5w07n"
   },
   "source": [
    "store txt files into a list named `doc`"
   ]
  },
  {
   "cell_type": "code",
   "execution_count": 58,
   "metadata": {
    "id": "mghgnTLQw07n"
   },
   "outputs": [],
   "source": [
    "docs = []\n",
    "for index in range(0, 3258):\n",
    "    with open(f\"{PATH}/{index}.txt\", 'r', encoding='utf8') as file_reader:\n",
    "        docs.append(file_reader.read())"
   ]
  },
  {
   "cell_type": "markdown",
   "metadata": {
    "id": "6INfP6Cyw07o"
   },
   "source": [
    "show example of data"
   ]
  },
  {
   "cell_type": "code",
   "execution_count": 5,
   "metadata": {
    "colab": {
     "base_uri": "https://localhost:8080/"
    },
    "id": "Of0k6h2xw07o",
    "outputId": "89408250-436b-44eb-dafe-b4ab30d4914b"
   },
   "outputs": [],
   "source": [
    "for doc in docs[:3]:\n",
    "    print (doc[:500])\n",
    "    print('-' * 50)"
   ]
  },
  {
   "cell_type": "markdown",
   "metadata": {
    "id": "0ZE9o94-reAA"
   },
   "source": [
    "### data clean"
   ]
  },
  {
   "cell_type": "code",
   "execution_count": 56,
   "metadata": {
    "id": "sRqlxk6pjrfG"
   },
   "outputs": [],
   "source": [
    "stopwords = [x.strip() for x in codecs.open('./data/stopwords.txt','r','utf-8').readlines()]\n",
    "normalizer = hazm.Normalizer()\n",
    "\n",
    "def remove_spaces_reg():\n",
    "    # return space patterns\n",
    "    space_pattern = r\"[\\xad\\ufeff\\u200e\\u200d\\u200b\\x7f\\u202a\\u2003\\xa0\\u206e\\u200c\\x9d]\"\n",
    "    return re.compile(space_pattern)\n",
    "\n",
    "def remove_symbols_reg():\n",
    "    # return symbol patterns\n",
    "    symbol_patterns = r\"(\\d|\\\"|'ٍ|¬|[؛“،,”‘۔’’‘–]|[|\\.÷+\\]\\[\\)\\(\\:\\-\\?»\\=\\{}\\*«»_…\\؟!/ـ]|[۰'ٓ۫'ٔ]|[ٓٔ]|[ًٌٍْﹼ،َُِّ«ٰ»ٖء])\"\n",
    "    return re.compile(symbol_patterns)\n",
    "\n",
    "def remeove_arabic(text):\n",
    "    # remove arabic alphabet\n",
    "    mapping = {\n",
    "        u\"ۀ\" : u\"ه\",\n",
    "        u\"ة\" : u\"ت\",\n",
    "        u\"ي\" : u\"ی\",\n",
    "        u\"ؤ\" : u\"و\",\n",
    "        u\"إ\" : u\"ا\",\n",
    "        u\"ٹ\" : u\"ت\",\n",
    "        u\"ڈ\" : u\"د\",\n",
    "        u\"ئ\" : u\"ی\",\n",
    "        u\"ﻨ\" : u\"ن\",\n",
    "        u\"ﺠ\" : u\"ج\",\n",
    "        u\"ﻣ\" : u\"م\",\n",
    "        u\"ﷲ\" : u\"\",\n",
    "        u\"ﻳ\" : u\"ی\",\n",
    "        u\"ٻ\" : u\"ب\",\n",
    "        u\"ٱ\" : u\"ا\",\n",
    "        u\"ڵ\" : u\"ل\",\n",
    "        u\"ﭘ\" : u\"پ\",\n",
    "        u\"ﻪ\" : u\"ه\",\n",
    "        u\"ﻳ\" : u\"ی\",\n",
    "        u\"ٻ\" : u\"ب\",\n",
    "        u\"ں\" : u\"ن\",\n",
    "        u\"ٶ\" : u\"و\",\n",
    "        u\"ٲ\" : u\"ا\",\n",
    "        u\"ہ\" : u\"ه\",\n",
    "        u\"ﻩ\" : u\"ه\",\n",
    "        u\"ﻩ\" : u\"ه\",\n",
    "        u\"ك\" : u\"ک\",\n",
    "        u\"ﺆ\" : u\"و\",\n",
    "        u\"أ\" : u\"ا\",\n",
    "        u\"ﺪ\" : u\"د\"\n",
    "    }\n",
    "\n",
    "    arabic_keys =  re.compile(r\"(\" + \"|\".join(mapping.keys()) + r\")\")\n",
    "    return arabic_keys.sub(lambda x: mapping[x.group()], text)\n",
    "\n",
    "\n",
    "spaces_reg = remove_spaces_reg() \n",
    "symbols_reg = remove_symbols_reg()\n",
    "\n",
    "\n",
    "def clean_text(text, allspace=True, punc=True, stopw=True):\n",
    "    if allspace:\n",
    "        text = re.sub(spaces_reg, \" \", text)\n",
    "    if punc:\n",
    "        text = re.sub(symbols_reg, \"\", text)\n",
    "\n",
    "    text = remeove_arabic(text)\n",
    "    text = normalizer.normalize(text)\n",
    "    \n",
    "    if stopw:\n",
    "        regex = r\"\\b(?:\" + \"|\".join(map(re.escape, stopwords)) + r\")\\b\"\n",
    "        text = re.sub(regex, \" \", text)\n",
    "        \n",
    "    text = re.sub(\"(\\s)+\", \" \", text)\n",
    "    text = text.strip()\n",
    "    return text"
   ]
  },
  {
   "cell_type": "code",
   "execution_count": 60,
   "metadata": {
    "colab": {
     "base_uri": "https://localhost:8080/"
    },
    "id": "k7w881EWjrfP",
    "outputId": "22025469-1eb4-4f49-f874-81b82ca9e853"
   },
   "outputs": [
    {
     "name": "stdout",
     "output_type": "stream",
     "text": [
      "برخی از هواداران مصدق یا اعضای جبهه ملی که در زمان نخست وزیری مصدق از جبهه ملی یا از هییت وزیران کنار گذاشته شده یا کنار رفتند پس از جدایی از مصدق به انتقاد از کارنامه وی پرداختند و حتی برای سرنگونی اش تلاش کردند برخی از این افراد عبارت اند از فضل الله زاهدی نخست وزیر کودتا علی امینی حسین مکی که در آغاز سرباز فداکار وطن نامیده شد ولی در پایان به دلیل مخالفت با مصدق از سوی هواداران جبهه ملی سرباز خطاکار وطن خطاب می‌شد مظفر بقایی به دلیل اتهام مشارکت در قتل سرتیپ افشار طوس و سپس اتهام شرکت در کودت\n",
      "--------------------------------------------------\n",
      "جبهه ملی ایران که به اختصار جبهه ملی نیز خوانده می‌شود سازمان سیاسی ملی گرای سکولار دموکرات و جمهوری خواه فعال در ایران است که در حال حاضر تحت رهبری دکتر موسویان فعالیت می‌کند جبهه ملی ایران در سال توسط سیاستمدارانی از قبیل محمد مصدق حسین فاطمی و کریم سنجابی تاسیس شد و به پیش نهاد حسین فاطمی ملی شدن صنعت نفت ایران را مطرح کرد دکتر مصدق در کتاب خاطرات خود می‌گوید پیشنهاد ملی شدن صنعت نفت در سراسر کشور ابتکار شادروان دکتر حسین فاطمی بود با پیشنهاد و نظریات آن شادروان موافقت نمودم و قرار شد که ایشا\n",
      "--------------------------------------------------\n",
      "سرلشکر زاهدی در سال و پس از آن که دخالت‌های سرتیپ صفاری رییس شهربانی در انتخابات اعتراض برانگیخت به جای او به ریاست شهربانی کل کشور منصوب شد او بر خلاف سرتیپ صفاری از آرای مردم و منتخبان تهران جبهه ملی دفاع کرد و در برابر رقیب سرسخت قدیمی اش سپهبد رزم آرا رییس ستاد ارتش ایستاد که نتیجه این حراست آرا پیروزی جبهه ملی به رهبری دکتر مصدق در انتخابات تهران و راه یافتن آنان به مجلس بود اما منصورالملک که در فروردین به نخست وزیری رسید زاهدی را از ریاست شهربانی کنار گذاشت محمد مصدق طی نطقی در مجلس به کنا\n",
      "--------------------------------------------------\n"
     ]
    }
   ],
   "source": [
    "# cleaned data\n",
    "docs = [clean_text(doc, stopw=False) for doc in docs]\n",
    "for doc in docs[:3]:\n",
    "    print (doc[:500])\n",
    "    print('-' * 50)"
   ]
  },
  {
   "cell_type": "markdown",
   "metadata": {
    "id": "QpNIVrxxw07q"
   },
   "source": [
    "### bpe"
   ]
  },
  {
   "cell_type": "code",
   "execution_count": 61,
   "metadata": {
    "id": "40p5t2m9w07q"
   },
   "outputs": [],
   "source": [
    "BPE_PATH = './bpe/'\n",
    "BPE_PATH = BPE_PATH.rstrip('/')\n",
    "os.makedirs(BPE_PATH, exist_ok=True)\n",
    "train_data_path = BPE_PATH + \"/train_data.txt\"\n",
    "model_path = BPE_PATH + \"/bpe.model\""
   ]
  },
  {
   "cell_type": "markdown",
   "metadata": {
    "id": "sxn8iOzBjrfQ"
   },
   "source": [
    "- Train"
   ]
  },
  {
   "cell_type": "code",
   "execution_count": 62,
   "metadata": {
    "colab": {
     "base_uri": "https://localhost:8080/"
    },
    "id": "Tuyejzn5w07r",
    "outputId": "b2a04419-1b30-499d-dd9c-6cf12c3d5c79"
   },
   "outputs": [
    {
     "data": {
      "text/plain": [
       "<youtokentome.youtokentome.BPE at 0x7fd50dd7b690>"
      ]
     },
     "execution_count": 62,
     "metadata": {},
     "output_type": "execute_result"
    }
   ],
   "source": [
    "# Generating corpus file with training data\n",
    "pretrained_bpe_texts = ' '.join(docs)\n",
    "\n",
    "with open(train_data_path, \"w\") as w_file:\n",
    "    w_file.write(pretrained_bpe_texts)\n",
    "\n",
    "# Training model\n",
    "yttm.BPE.train(data=train_data_path, vocab_size=5000, model=model_path, unk_id=1, bos_id=2, eos_id=3)"
   ]
  },
  {
   "cell_type": "markdown",
   "metadata": {
    "id": "4APhiZdsjrfR"
   },
   "source": [
    "- Load\n",
    "- Test"
   ]
  },
  {
   "cell_type": "code",
   "execution_count": 4,
   "metadata": {
    "colab": {
     "base_uri": "https://localhost:8080/"
    },
    "id": "vc1dqUxFjrfS",
    "outputId": "0a3e7ed4-b325-4ab8-f3d7-526f076ddc9a"
   },
   "outputs": [],
   "source": [
    "# Loading model\n",
    "bpe = yttm.BPE(model=model_path)\n",
    "\n",
    "# first document as a test \n",
    "test_text = docs[0]\n",
    "\n",
    "# Two types of tokenization\n",
    "print(bpe.encode(test_text, output_type=yttm.OutputType.SUBWORD))"
   ]
  },
  {
   "cell_type": "markdown",
   "metadata": {
    "id": "mg7hhMsjw07r"
   },
   "source": [
    "### TFIDF TOP K Relevent Documents "
   ]
  },
  {
   "cell_type": "code",
   "execution_count": 44,
   "metadata": {
    "id": "vdXjSnmww07s"
   },
   "outputs": [],
   "source": [
    "## function: tokenizer persian "
   ]
  },
  {
   "cell_type": "code",
   "execution_count": 45,
   "metadata": {
    "id": "KPXPNJhhw07s"
   },
   "outputs": [],
   "source": [
    "## list: stop word persian"
   ]
  },
  {
   "cell_type": "code",
   "execution_count": 64,
   "metadata": {
    "id": "Mfu38GhlXc13"
   },
   "outputs": [],
   "source": [
    "class tfidf:\n",
    "    \n",
    "    def __init__(self, docs, ngram_range, bpe_model=None):\n",
    "        self._min_df = 1\n",
    "        self._max_df=0.5\n",
    "        self._max_features=10000\n",
    "        self._docs = docs\n",
    "        self._bpe = bpe_model\n",
    "        self._ngram_range = ngram_range\n",
    "        if self._bpe:\n",
    "            self._model_tfidf = TfidfVectorizer(analyzer=\"word\", min_df=self._min_df, max_df=self._max_df, max_features=self._max_features, ngram_range=self._ngram_range, tokenizer= lambda x: self.bpe_tokenizer(x))\n",
    "        else:\n",
    "            self._model_tfidf = TfidfVectorizer(analyzer=\"word\", min_df=self._min_df, max_df=self._max_df, max_features=self._max_features, ngram_range=self._ngram_range)\n",
    "\n",
    "        self._matrix = self._model_tfidf.fit_transform(docs)\n",
    "        self._feature_names = self._model_tfidf.get_feature_names_out()\n",
    "        #Load skip-gram embedding vector for each TF-IDF term\n",
    "        self._tfidf_emb_vecs = np.vstack([model_skipgram.get_word_vector(word) for word in self._feature_names])\n",
    "\n",
    "        #To get a TF-IDF weighted skip-gram vector summary of each document, \n",
    "        #we just need to matrix multiply docs_vecs with tfidf_emb_vecs\n",
    "        self._docs_emb = np.dot(self._matrix.toarray(), self._tfidf_emb_vecs)\n",
    "\n",
    "\n",
    "    def bpe_tokenizer(self, text):\n",
    "        tokens = self._bpe.encode(text, output_type=yttm.OutputType.SUBWORD)\n",
    "        return tokens \n",
    "        \n",
    "\n",
    "    def tfidf_top_k(self, query, k=2):\n",
    "        \n",
    "        query_tfidf = self._model_tfidf.transform([query])\n",
    "\n",
    "        # Stores cosine similarity scores\n",
    "        doc_scores = []\n",
    "\n",
    "        # Compute the cosine similarity scores\n",
    "        for doc in self._matrix:\n",
    "            doc_scores.append(cosine_similarity(query_tfidf, doc)[0][0])\n",
    "\n",
    "        # Sort list of doc_scores and return the top k indices of highest scores\n",
    "        sorted_scores = sorted(enumerate(doc_scores), key=lambda ind_score: ind_score[1], reverse=True)\n",
    "        top_doc_indices = [ind for ind, score in sorted_scores[:k]]\n",
    "\n",
    "        return top_doc_indices\n",
    "\n",
    "\n",
    "\n",
    "    def tfidf_weighted_top_k(self, query, k=2):\n",
    "\n",
    "        query_tfidf = self._model_tfidf.transform([query])\n",
    "        query_emb = np.dot(query_tfidf.toarray(), self._tfidf_emb_vecs)\n",
    "        # Stores cosine similarity scores\n",
    "        doc_scores = []\n",
    "\n",
    "        # Compute the cosine similarity scores\n",
    "        for doc in self._docs_emb:\n",
    "            doc_scores.append(cosine_similarity(query_emb, doc.reshape(1, -1))[0][0])\n",
    "\n",
    "        # Sort list of doc_scores and return the top k indices of highest scores\n",
    "        sorted_scores = sorted(enumerate(doc_scores), key=lambda ind_score: ind_score[1], reverse=True)\n",
    "        top_doc_indices = [ind for ind, score in sorted_scores[:k]]\n",
    "      \n",
    "        return top_doc_indices"
   ]
  },
  {
   "cell_type": "code",
   "execution_count": 47,
   "metadata": {
    "id": "GHYNVWKAjrfV"
   },
   "outputs": [],
   "source": [
    "query = \"آدولف هیتلر شکست و مرگ\""
   ]
  },
  {
   "cell_type": "markdown",
   "metadata": {
    "id": "2e3aaDo6jrfV"
   },
   "source": [
    "###  Word Level: ngram (1,1)"
   ]
  },
  {
   "cell_type": "code",
   "execution_count": 48,
   "metadata": {
    "colab": {
     "base_uri": "https://localhost:8080/"
    },
    "id": "rHnMl25wXc14",
    "outputId": "b9a2d9a3-fe41-4314-8fdf-68e01dd71f10"
   },
   "outputs": [
    {
     "data": {
      "text/plain": [
       "[484,\n",
       " 482,\n",
       " 349,\n",
       " 345,\n",
       " 343,\n",
       " 344,\n",
       " 466,\n",
       " 347,\n",
       " 481,\n",
       " 341,\n",
       " 463,\n",
       " 1544,\n",
       " 342,\n",
       " 469,\n",
       " 443,\n",
       " 354,\n",
       " 483,\n",
       " 220,\n",
       " 442,\n",
       " 449]"
      ]
     },
     "execution_count": 48,
     "metadata": {},
     "output_type": "execute_result"
    }
   ],
   "source": [
    "tf_obj = tfidf(docs=docs, ngram_range=(1,1), bpe_model=None)\n",
    "tf_obj.tfidf_top_k(query, 20)"
   ]
  },
  {
   "cell_type": "markdown",
   "metadata": {
    "id": "nFazo97ujrfW"
   },
   "source": [
    "###  Word Level: ngram (1,2)"
   ]
  },
  {
   "cell_type": "code",
   "execution_count": 49,
   "metadata": {
    "colab": {
     "base_uri": "https://localhost:8080/"
    },
    "id": "LnnL0HWFaWzN",
    "outputId": "c213df22-175a-4855-c2f4-7ecfbf092079"
   },
   "outputs": [
    {
     "data": {
      "text/plain": [
       "[484,\n",
       " 349,\n",
       " 482,\n",
       " 347,\n",
       " 343,\n",
       " 344,\n",
       " 466,\n",
       " 442,\n",
       " 345,\n",
       " 481,\n",
       " 342,\n",
       " 341,\n",
       " 463,\n",
       " 354,\n",
       " 220,\n",
       " 469,\n",
       " 1544,\n",
       " 443,\n",
       " 483,\n",
       " 449]"
      ]
     },
     "execution_count": 49,
     "metadata": {},
     "output_type": "execute_result"
    }
   ],
   "source": [
    "tf_obj = tfidf(docs=docs, ngram_range=(1,2), bpe_model=None)\n",
    "tf_obj.tfidf_top_k(query, 20)"
   ]
  },
  {
   "cell_type": "markdown",
   "metadata": {
    "id": "V7HBGR9ajrfW"
   },
   "source": [
    "### BPE: ngram (1,1)"
   ]
  },
  {
   "cell_type": "code",
   "execution_count": 50,
   "metadata": {
    "colab": {
     "base_uri": "https://localhost:8080/"
    },
    "id": "zXAGwA5KcuQa",
    "outputId": "4f1925b1-69c5-4f68-df00-890c9e6be0b2"
   },
   "outputs": [
    {
     "data": {
      "text/plain": [
       "[484,\n",
       " 482,\n",
       " 349,\n",
       " 347,\n",
       " 345,\n",
       " 343,\n",
       " 344,\n",
       " 466,\n",
       " 341,\n",
       " 481,\n",
       " 342,\n",
       " 463,\n",
       " 442,\n",
       " 1544,\n",
       " 220,\n",
       " 483,\n",
       " 443,\n",
       " 469,\n",
       " 2080,\n",
       " 449]"
      ]
     },
     "execution_count": 50,
     "metadata": {},
     "output_type": "execute_result"
    }
   ],
   "source": [
    "tf_obj = tfidf(docs=docs, ngram_range=(1,1), bpe_model=bpe)\n",
    "tf_obj.tfidf_top_k(query, 20)"
   ]
  },
  {
   "cell_type": "markdown",
   "metadata": {
    "id": "OrXHdeeQjrfW"
   },
   "source": [
    "### BPE: ngram (1,2)"
   ]
  },
  {
   "cell_type": "code",
   "execution_count": 51,
   "metadata": {
    "colab": {
     "base_uri": "https://localhost:8080/"
    },
    "id": "s6ZnCvBWcu0m",
    "outputId": "b20422b1-e085-48de-9eda-f19602eb0422"
   },
   "outputs": [
    {
     "data": {
      "text/plain": [
       "[484,\n",
       " 482,\n",
       " 349,\n",
       " 442,\n",
       " 347,\n",
       " 344,\n",
       " 345,\n",
       " 466,\n",
       " 343,\n",
       " 341,\n",
       " 1544,\n",
       " 481,\n",
       " 342,\n",
       " 463,\n",
       " 443,\n",
       " 469,\n",
       " 483,\n",
       " 220,\n",
       " 438,\n",
       " 449]"
      ]
     },
     "execution_count": 51,
     "metadata": {},
     "output_type": "execute_result"
    }
   ],
   "source": [
    "tf_obj = tfidf(docs=docs, ngram_range=(1,2), bpe_model=bpe)\n",
    "tf_obj.tfidf_top_k(query, 20)"
   ]
  },
  {
   "cell_type": "markdown",
   "metadata": {
    "id": "Q44_nrIvuzqx"
   },
   "source": [
    "TFIDF Weighted"
   ]
  },
  {
   "cell_type": "code",
   "execution_count": 65,
   "metadata": {
    "colab": {
     "base_uri": "https://localhost:8080/"
    },
    "id": "5i_KyE5du2c0",
    "outputId": "cec8f091-8f58-4d94-d5f1-21a0e58fc7f9"
   },
   "outputs": [
    {
     "data": {
      "text/plain": [
       "[341,\n",
       " 466,\n",
       " 443,\n",
       " 484,\n",
       " 481,\n",
       " 1544,\n",
       " 345,\n",
       " 343,\n",
       " 349,\n",
       " 482,\n",
       " 442,\n",
       " 347,\n",
       " 438,\n",
       " 344,\n",
       " 342,\n",
       " 351,\n",
       " 348,\n",
       " 2727,\n",
       " 354,\n",
       " 465]"
      ]
     },
     "execution_count": 65,
     "metadata": {},
     "output_type": "execute_result"
    }
   ],
   "source": [
    "tf_obj = tfidf(docs=docs, ngram_range=(1,2), bpe_model=None)\n",
    "tf_obj.tfidf_weighted_top_k(query, 20)"
   ]
  }
 ],
 "metadata": {
  "colab": {
   "collapsed_sections": [],
   "name": "tfidf.ipynb",
   "provenance": []
  },
  "kernelspec": {
   "display_name": "Python 3",
   "language": "python",
   "name": "python3"
  },
  "language_info": {
   "codemirror_mode": {
    "name": "ipython",
    "version": 3
   },
   "file_extension": ".py",
   "mimetype": "text/x-python",
   "name": "python",
   "nbconvert_exporter": "python",
   "pygments_lexer": "ipython3",
   "version": "3.6.5"
  }
 },
 "nbformat": 4,
 "nbformat_minor": 1
}
