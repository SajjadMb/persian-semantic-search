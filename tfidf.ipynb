{
 "cells": [
  {
   "cell_type": "markdown",
   "metadata": {
    "id": "sVltd6Uuw07e"
   },
   "source": [
    "# TFIDF"
   ]
  },
  {
   "cell_type": "markdown",
   "metadata": {
    "id": "s5p3unGaw07j"
   },
   "source": [
    "### Libraries"
   ]
  },
  {
   "cell_type": "code",
   "execution_count": 3,
   "metadata": {
    "colab": {
     "base_uri": "https://localhost:8080/"
    },
    "id": "Rk6dVuOvw07k",
    "outputId": "cc2456e2-2d94-4fa3-d8bf-e5c4dcdaadf3"
   },
   "outputs": [],
   "source": [
    "!pip install youtokentome"
   ]
  },
  {
   "cell_type": "code",
   "execution_count": 2,
   "metadata": {
    "id": "nA09SVVuw07l"
   },
   "outputs": [],
   "source": [
    "import os\n",
    "from sklearn.feature_extraction.text import TfidfVectorizer\n",
    "from sklearn.metrics.pairwise import cosine_similarity\n",
    "import youtokentome as yttm"
   ]
  },
  {
   "cell_type": "markdown",
   "metadata": {
    "id": "2s7Jtz8xAsiW"
   },
   "source": [
    "### Download Data"
   ]
  },
  {
   "cell_type": "code",
   "execution_count": 2,
   "metadata": {
    "colab": {
     "base_uri": "https://localhost:8080/"
    },
    "id": "NSJIlsg1xOZk",
    "outputId": "b11ae646-d07a-4c89-f8d6-88ba6f3374e0"
   },
   "outputs": [],
   "source": [
    "! wget https://raw.githubusercontent.com/language-ml/2-LM-embedding-projects/main/problem3/evaluation_IR.yml -P ./data\n",
    "! wget https://github.com/language-ml/2-LM-embedding-projects/raw/main/problem3/doc_collection.zip -P ./data\n",
    "! unzip ./data/doc_collection.zip -d ./data"
   ]
  },
  {
   "cell_type": "markdown",
   "metadata": {
    "id": "CUfM9H3pw07l"
   },
   "source": [
    "### Read data"
   ]
  },
  {
   "cell_type": "markdown",
   "metadata": {
    "id": "PG5LZ9a4w07m"
   },
   "source": [
    "set path of data in `PATH` variable"
   ]
  },
  {
   "cell_type": "code",
   "execution_count": 4,
   "metadata": {
    "id": "k9HQ4Tk0w07m"
   },
   "outputs": [],
   "source": [
    "PATH = './data/IR_dataset/'\n",
    "PATH = PATH.rstrip('/')"
   ]
  },
  {
   "cell_type": "markdown",
   "metadata": {
    "id": "WXNvbgw5w07n"
   },
   "source": [
    "store txt files into a list named `doc`"
   ]
  },
  {
   "cell_type": "code",
   "execution_count": 5,
   "metadata": {
    "id": "mghgnTLQw07n"
   },
   "outputs": [],
   "source": [
    "docs = []\n",
    "for index in range(0, 3258):\n",
    "    with open(f\"{PATH}/{index}.txt\", 'r', encoding='utf8') as file_reader:\n",
    "        docs.append(file_reader.read())"
   ]
  },
  {
   "cell_type": "markdown",
   "metadata": {
    "id": "6INfP6Cyw07o"
   },
   "source": [
    "show example of data"
   ]
  },
  {
   "cell_type": "code",
   "execution_count": 6,
   "metadata": {
    "colab": {
     "base_uri": "https://localhost:8080/"
    },
    "id": "Of0k6h2xw07o",
    "outputId": "358a4e96-9a5c-403e-b020-10051d9738ba"
   },
   "outputs": [
    {
     "name": "stdout",
     "output_type": "stream",
     "text": [
      "برخی از هواداران مصدق یا اعضای جبهه ملی که در زمان نخست‌وزیری مصدق، از جبهه ملی یا از هیئت‌وزیران کنار گذاشته شده یا کنار رفتند، پس از جدایی از مصدق، به انتقاد از کارنامه وی پرداختند و حتی برای سرنگونی‌اش تلاش کردند. برخی از این افراد عبارت‌اند از:\n",
      "* فضل‌الله زاهدی (نخست‌وزیر کودتا)\n",
      "* علی امینی\n",
      "* حسین مکی، (که در آغاز سرباز فداکار وطن نامیده شد ولی در پایان به دلیل مخالفت با مصدق از سوی هواداران جبهه ملی سرباز خطاکار وطن خطاب می‌شد)\n",
      "* مظفر بقایی (به دلیل اتهام مشارکت در قتل سرتیپ افشار طوس و سپس\n",
      "--------------------------------------------------\n",
      "جبهه ملی ایران که به اختصار جبهه ملی نیز خوانده می‌شود سازمان سیاسی ملی‌گرای سکولار، دموکرات و جمهوری‌خواه فعال در ایران است، که در حال حاضر تحت رهبری دکتر موسویان فعالیت می‌کند.\n",
      "\n",
      "جبهه ملی ایران در سال ۱۳۲۸ توسط سیاستمدارانی از قبیل محمد مصدق، حسین فاطمی و کریم سنجابی تأسیس شد و به پیش نهاد حسین فاطمی، ملی شدن صنعت نفت ایران را مطرح کرد. دکتر مصدق در کتاب خاطرات خود می‌گوید: «پیشنهاد ملی‌شدن صنعت نفت در سراسر کشور ابتکار شادروان دکتر حسین فاطمی بود… با پیشنهاد و نظریات آن شادروان موافقت نمودم و \n",
      "--------------------------------------------------\n",
      "سرلشکر زاهدی در سال ۱۳۲۸ و پس از آن‌که دخالت‌های سرتیپ صفاری رئیس شهربانی در انتخابات، اعتراض برانگیخت، به جای او به ریاست شهربانی کل کشور منصوب شد. او بر خلاف سرتیپ صفاری از آرای مردم و منتخبان تهران (جبههٔ ملی) دفاع کرد و در برابر رقیب سرسخت قدیمی‌اش، سپهبد رزم‌آرا (رئیس ستاد ارتش) ایستاد که نتیجهٔ این حراست آراء، پیروزی جبههٔ ملی به رهبری دکتر مصدق در انتخابات تهران و راه یافتن آنان به مجلس بود.\n",
      "\n",
      "اما منصورالملک که در فروردین ۱۳۲۹ به نخست‌وزیری رسید، زاهدی را از ریاست شهربانی کنار گذاشت. محمد \n",
      "--------------------------------------------------\n"
     ]
    }
   ],
   "source": [
    "for doc in docs[:3]:\n",
    "    print (doc[:500])\n",
    "    print('-' * 50)"
   ]
  },
  {
   "cell_type": "code",
   "execution_count": 5,
   "metadata": {
    "id": "ZjjdHJygw07p"
   },
   "outputs": [],
   "source": [
    "### data clean"
   ]
  },
  {
   "cell_type": "markdown",
   "metadata": {
    "id": "QpNIVrxxw07q"
   },
   "source": [
    "### bpe"
   ]
  },
  {
   "cell_type": "code",
   "execution_count": 7,
   "metadata": {
    "id": "40p5t2m9w07q"
   },
   "outputs": [],
   "source": [
    "BPE_PATH = './bpe/'\n",
    "BPE_PATH = BPE_PATH.rstrip('/')\n",
    "os.makedirs(BPE_PATH, exist_ok=True)\n",
    "train_data_path = BPE_PATH + \"/train_data.txt\"\n",
    "model_path = BPE_PATH + \"/bpe.model\""
   ]
  },
  {
   "cell_type": "markdown",
   "metadata": {},
   "source": [
    "- Train"
   ]
  },
  {
   "cell_type": "code",
   "execution_count": null,
   "metadata": {
    "colab": {
     "base_uri": "https://localhost:8080/"
    },
    "id": "Tuyejzn5w07r",
    "outputId": "9e933d91-e666-4b27-bd39-b0041300ac05"
   },
   "outputs": [],
   "source": [
    "# Generating corpus file with training data\n",
    "pretrained_bpe_texts = ' '.join(docs)\n",
    "\n",
    "with open(train_data_path, \"w\") as w_file:\n",
    "    w_file.write(pretrained_bpe_texts)\n",
    "\n",
    "# Training model\n",
    "yttm.BPE.train(data=train_data_path, vocab_size=5000, model=model_path, unk_id=1, bos_id=2, eos_id=3)"
   ]
  },
  {
   "cell_type": "markdown",
   "metadata": {},
   "source": [
    "- Load\n",
    "- Test"
   ]
  },
  {
   "cell_type": "code",
   "execution_count": 6,
   "metadata": {
    "colab": {
     "base_uri": "https://localhost:8080/"
    },
    "id": "Tuyejzn5w07r",
    "outputId": "9e933d91-e666-4b27-bd39-b0041300ac05"
   },
   "outputs": [],
   "source": [
    "# Loading model\n",
    "bpe = yttm.BPE(model=model_path)\n",
    "\n",
    "# first document as a test \n",
    "test_text = docs[0]\n",
    "\n",
    "# Two types of tokenization\n",
    "print(bpe.encode(test_text, output_type=yttm.OutputType.SUBWORD))"
   ]
  },
  {
   "cell_type": "markdown",
   "metadata": {
    "id": "mg7hhMsjw07r"
   },
   "source": [
    "### TFIDF TOP K Relevent Documents "
   ]
  },
  {
   "cell_type": "code",
   "execution_count": null,
   "metadata": {
    "id": "vdXjSnmww07s"
   },
   "outputs": [],
   "source": [
    "## function: tokenizer persian "
   ]
  },
  {
   "cell_type": "code",
   "execution_count": null,
   "metadata": {
    "id": "KPXPNJhhw07s"
   },
   "outputs": [],
   "source": [
    "## list: stop word persian"
   ]
  },
  {
   "cell_type": "code",
   "execution_count": 15,
   "metadata": {
    "id": "Mfu38GhlXc13"
   },
   "outputs": [],
   "source": [
    "class tfidf:\n",
    "    \n",
    "    def __init__(self, docs, ngram_range, bpe_model=None):\n",
    "        self._min_df = 1\n",
    "        self._max_df=0.5\n",
    "        self._max_features=10000\n",
    "        self._docs = docs\n",
    "        self._bpe = bpe_model\n",
    "        self._ngram_range = ngram_range\n",
    "        if self._bpe:\n",
    "            self._model_tfidf = TfidfVectorizer(analyzer=\"word\", min_df=self._min_df, max_df=self._max_df, max_features=self._max_features, ngram_range=self._ngram_range, tokenizer= lambda x: self.bpe_tokenizer(x))\n",
    "        else:\n",
    "            self._model_tfidf = TfidfVectorizer(analyzer=\"word\", min_df=self._min_df, max_df=self._max_df, max_features=self._max_features, ngram_range=self._ngram_range)\n",
    "\n",
    "        self._matrix = self._model_tfidf.fit_transform(docs)\n",
    "\n",
    "    def bpe_tokenizer(self, text):\n",
    "        tokens = self._bpe.encode(text, output_type=yttm.OutputType.SUBWORD)\n",
    "        return tokens \n",
    "        \n",
    "\n",
    "    def tfidf_top_k(self, query, k=2):\n",
    "        \n",
    "        query_tfidf = self._model_tfidf.transform([query])\n",
    "\n",
    "        # Stores cosine similarity scores\n",
    "        doc_scores = []\n",
    "\n",
    "        # Compute the cosine similarity scores\n",
    "        for doc in self._matrix:\n",
    "            doc_scores.append(cosine_similarity(query_tfidf, doc)[0][0])\n",
    "\n",
    "        # Sort list of doc_scores and return the top k indices of highest scores\n",
    "        sorted_scores = sorted(enumerate(doc_scores), key=lambda ind_score: ind_score[1], reverse=True)\n",
    "        top_doc_indices = [ind for ind, score in sorted_scores[:k]]\n",
    "\n",
    "        return top_doc_indices"
   ]
  },
  {
   "cell_type": "code",
   "execution_count": 1,
   "metadata": {},
   "outputs": [],
   "source": [
    "query = \"آدولف هیتلر شکست و مرگ\""
   ]
  },
  {
   "cell_type": "markdown",
   "metadata": {},
   "source": [
    "###  Word Level: ngram (1,1)"
   ]
  },
  {
   "cell_type": "code",
   "execution_count": 25,
   "metadata": {
    "colab": {
     "base_uri": "https://localhost:8080/"
    },
    "id": "rHnMl25wXc14",
    "outputId": "059cd3f7-5ec4-4efc-df8f-1eb9d5d93270"
   },
   "outputs": [
    {
     "data": {
      "text/plain": [
       "[484,\n",
       " 482,\n",
       " 349,\n",
       " 343,\n",
       " 345,\n",
       " 344,\n",
       " 466,\n",
       " 481,\n",
       " 341,\n",
       " 347,\n",
       " 1544,\n",
       " 463,\n",
       " 342,\n",
       " 443,\n",
       " 469,\n",
       " 442,\n",
       " 483,\n",
       " 220,\n",
       " 354,\n",
       " 449]"
      ]
     },
     "execution_count": 25,
     "metadata": {},
     "output_type": "execute_result"
    }
   ],
   "source": [
    "tf_obj = tfidf(docs=docs, ngram_range=(1,1), bpe_model=None)\n",
    "tf_obj.tfidf_top_k(query, 20)"
   ]
  },
  {
   "cell_type": "markdown",
   "metadata": {},
   "source": [
    "###  Word Level: ngram (1,2)"
   ]
  },
  {
   "cell_type": "code",
   "execution_count": 26,
   "metadata": {
    "colab": {
     "base_uri": "https://localhost:8080/"
    },
    "id": "LnnL0HWFaWzN",
    "outputId": "44da5019-9dd8-4839-b6ca-e61b2e453328"
   },
   "outputs": [
    {
     "data": {
      "text/plain": [
       "[484,\n",
       " 482,\n",
       " 344,\n",
       " 345,\n",
       " 343,\n",
       " 349,\n",
       " 481,\n",
       " 341,\n",
       " 466,\n",
       " 1544,\n",
       " 342,\n",
       " 347,\n",
       " 463,\n",
       " 354,\n",
       " 220,\n",
       " 443,\n",
       " 469,\n",
       " 483,\n",
       " 442,\n",
       " 449]"
      ]
     },
     "execution_count": 26,
     "metadata": {},
     "output_type": "execute_result"
    }
   ],
   "source": [
    "tf_obj = tfidf(docs=docs, ngram_range=(1,2), bpe_model=None)\n",
    "tf_obj.tfidf_top_k(query, 20)"
   ]
  },
  {
   "cell_type": "markdown",
   "metadata": {},
   "source": [
    "### BPE: ngram (1,1)"
   ]
  },
  {
   "cell_type": "code",
   "execution_count": 27,
   "metadata": {
    "colab": {
     "base_uri": "https://localhost:8080/"
    },
    "id": "zXAGwA5KcuQa",
    "outputId": "296f48de-c2f9-4aaf-9fe4-c8da98a8cd68"
   },
   "outputs": [
    {
     "data": {
      "text/plain": [
       "[484,\n",
       " 482,\n",
       " 344,\n",
       " 345,\n",
       " 343,\n",
       " 347,\n",
       " 342,\n",
       " 341,\n",
       " 466,\n",
       " 481,\n",
       " 442,\n",
       " 1544,\n",
       " 443,\n",
       " 463,\n",
       " 220,\n",
       " 2080,\n",
       " 483,\n",
       " 469,\n",
       " 349,\n",
       " 449]"
      ]
     },
     "execution_count": 27,
     "metadata": {},
     "output_type": "execute_result"
    }
   ],
   "source": [
    "tf_obj = tfidf(docs=docs, ngram_range=(1,1), bpe_model=bpe)\n",
    "tf_obj.tfidf_top_k(query, 20)"
   ]
  },
  {
   "cell_type": "markdown",
   "metadata": {},
   "source": [
    "### BPE: ngram (1,2)"
   ]
  },
  {
   "cell_type": "code",
   "execution_count": 28,
   "metadata": {
    "colab": {
     "base_uri": "https://localhost:8080/"
    },
    "id": "s6ZnCvBWcu0m",
    "outputId": "47d9f376-2d69-4147-dd24-e61ef5ee7761"
   },
   "outputs": [
    {
     "data": {
      "text/plain": [
       "[484,\n",
       " 482,\n",
       " 344,\n",
       " 345,\n",
       " 343,\n",
       " 341,\n",
       " 466,\n",
       " 347,\n",
       " 481,\n",
       " 342,\n",
       " 1544,\n",
       " 463,\n",
       " 2080,\n",
       " 442,\n",
       " 220,\n",
       " 469,\n",
       " 483,\n",
       " 354,\n",
       " 443,\n",
       " 349]"
      ]
     },
     "execution_count": 28,
     "metadata": {},
     "output_type": "execute_result"
    }
   ],
   "source": [
    "tf_obj = tfidf(docs=docs, ngram_range=(1,2), bpe_model=bpe)\n",
    "tf_obj.tfidf_top_k(query, 20)"
   ]
  }
 ],
 "metadata": {
  "colab": {
   "collapsed_sections": [],
   "name": "tfidf.ipynb",
   "provenance": []
  },
  "kernelspec": {
   "display_name": "Python 3",
   "language": "python",
   "name": "python3"
  },
  "language_info": {
   "codemirror_mode": {
    "name": "ipython",
    "version": 3
   },
   "file_extension": ".py",
   "mimetype": "text/x-python",
   "name": "python",
   "nbconvert_exporter": "python",
   "pygments_lexer": "ipython3",
   "version": "3.6.5"
  }
 },
 "nbformat": 4,
 "nbformat_minor": 1
}
