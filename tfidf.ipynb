{
 "cells": [
  {
   "cell_type": "markdown",
   "metadata": {},
   "source": [
    "# TFIDF"
   ]
  },
  {
   "cell_type": "markdown",
   "metadata": {},
   "source": [
    "### Libraries"
   ]
  },
  {
   "cell_type": "code",
   "execution_count": 1,
   "metadata": {},
   "outputs": [],
   "source": [
    "from sklearn.feature_extraction.text import TfidfVectorizer\n",
    "from sklearn.metrics.pairwise import cosine_similarity"
   ]
  },
  {
   "cell_type": "markdown",
   "metadata": {},
   "source": [
    "### Read data"
   ]
  },
  {
   "cell_type": "markdown",
   "metadata": {},
   "source": [
    "set path of data in `PATH` variable"
   ]
  },
  {
   "cell_type": "code",
   "execution_count": 2,
   "metadata": {},
   "outputs": [],
   "source": [
    "PATH = './data/IR_dataset/'\n",
    "PATH = PATH.rstrip('/')"
   ]
  },
  {
   "cell_type": "markdown",
   "metadata": {},
   "source": [
    "store txt files into a list named `doc`"
   ]
  },
  {
   "cell_type": "code",
   "execution_count": 13,
   "metadata": {},
   "outputs": [],
   "source": [
    "docs = []\n",
    "for index in range(0, 3258):\n",
    "    with open(f\"{PATH}/{index}.txt\", 'r', encoding='utf8') as file_reader:\n",
    "        docs.append(file_reader.read())"
   ]
  },
  {
   "cell_type": "markdown",
   "metadata": {},
   "source": [
    "show example of data"
   ]
  },
  {
   "cell_type": "code",
   "execution_count": 4,
   "metadata": {},
   "outputs": [
    {
     "name": "stdout",
     "output_type": "stream",
     "text": [
      "برخی از هواداران مصدق یا اعضای جبهه ملی که در زمان نخست‌وزیری مصدق، از جبهه ملی یا از هیئت‌وزیران کنار گذاشته شده یا کنار رفتند، پس از جدایی از مصدق، به انتقاد از کارنامه وی پرداختند و حتی برای سرنگونی‌اش تلاش کردند. برخی از این افراد عبارت‌اند از:\n",
      "* فضل‌الله زاهدی (نخست‌وزیر کودتا)\n",
      "* علی امینی\n",
      "* حسین مکی، (که در آغاز سرباز فداکار وطن نامیده شد ولی در پایان به دلیل مخالفت با مصدق از سوی هواداران جبهه ملی سرباز خطاکار وطن خطاب می‌شد)\n",
      "* مظفر بقایی (به دلیل اتهام مشارکت در قتل سرتیپ افشار طوس و سپس\n",
      "--------------------------------------------------\n",
      "جبهه ملی ایران که به اختصار جبهه ملی نیز خوانده می‌شود سازمان سیاسی ملی‌گرای سکولار، دموکرات و جمهوری‌خواه فعال در ایران است، که در حال حاضر تحت رهبری دکتر موسویان فعالیت می‌کند.\n",
      "\n",
      "جبهه ملی ایران در سال ۱۳۲۸ توسط سیاستمدارانی از قبیل محمد مصدق، حسین فاطمی و کریم سنجابی تأسیس شد و به پیش نهاد حسین فاطمی، ملی شدن صنعت نفت ایران را مطرح کرد. دکتر مصدق در کتاب خاطرات خود می‌گوید: «پیشنهاد ملی‌شدن صنعت نفت در سراسر کشور ابتکار شادروان دکتر حسین فاطمی بود… با پیشنهاد و نظریات آن شادروان موافقت نمودم و \n",
      "--------------------------------------------------\n",
      "سرلشکر زاهدی در سال ۱۳۲۸ و پس از آن‌که دخالت‌های سرتیپ صفاری رئیس شهربانی در انتخابات، اعتراض برانگیخت، به جای او به ریاست شهربانی کل کشور منصوب شد. او بر خلاف سرتیپ صفاری از آرای مردم و منتخبان تهران (جبههٔ ملی) دفاع کرد و در برابر رقیب سرسخت قدیمی‌اش، سپهبد رزم‌آرا (رئیس ستاد ارتش) ایستاد که نتیجهٔ این حراست آراء، پیروزی جبههٔ ملی به رهبری دکتر مصدق در انتخابات تهران و راه یافتن آنان به مجلس بود.\n",
      "\n",
      "اما منصورالملک که در فروردین ۱۳۲۹ به نخست‌وزیری رسید، زاهدی را از ریاست شهربانی کنار گذاشت. محمد \n",
      "--------------------------------------------------\n"
     ]
    }
   ],
   "source": [
    "for doc in docs[:3]:\n",
    "    print (doc[:500])\n",
    "    print('-' * 50)"
   ]
  },
  {
   "cell_type": "code",
   "execution_count": 5,
   "metadata": {},
   "outputs": [],
   "source": [
    "## data clean"
   ]
  },
  {
   "cell_type": "markdown",
   "metadata": {},
   "source": [
    "### TFIDF TOP K Relevent Documents "
   ]
  },
  {
   "cell_type": "code",
   "execution_count": 6,
   "metadata": {},
   "outputs": [],
   "source": [
    "## function: tokenizer persian "
   ]
  },
  {
   "cell_type": "code",
   "execution_count": 7,
   "metadata": {},
   "outputs": [],
   "source": [
    "## list: stop word persian"
   ]
  },
  {
   "cell_type": "markdown",
   "metadata": {},
   "source": [
    "controllable parameters: `min_df`, `max_df`, `max_feautures`, `ngram_range`"
   ]
  },
  {
   "cell_type": "code",
   "execution_count": 8,
   "metadata": {},
   "outputs": [],
   "source": [
    "# Initialize a vectorizer\n",
    "model_tfidf = TfidfVectorizer(analyzer=\"word\", min_df = 1, max_df=0.5, max_features=10000, ngram_range=(1,2))\n",
    "# Create a corpus of documents and convert to TFIDF vectors\n",
    "matrix = model_tfidf.fit_transform(docs)"
   ]
  },
  {
   "cell_type": "code",
   "execution_count": 9,
   "metadata": {},
   "outputs": [],
   "source": [
    "# https://mccormickml.com/2021/05/27/question-answering-system-tf-idf/\n",
    "def tfidf_top_k(query, model_tfidf, matrix, k=2):\n",
    "\n",
    "    query_tfidf = model_tfidf.transform([query])\n",
    "    \n",
    "    # Stores cosine similarity scores\n",
    "    doc_scores = []\n",
    "\n",
    "    # Compute the cosine similarity scores\n",
    "    for doc in matrix:\n",
    "        doc_scores.append(cosine_similarity(query_tfidf, doc)[0][0])\n",
    "\n",
    "    # Sort list of doc_scores and return the top k indices of highest scores\n",
    "    sorted_scores = sorted(enumerate(doc_scores), key=lambda ind_score: ind_score[1], reverse=True)\n",
    "    top_doc_indices = [ind for ind, score in sorted_scores[:k]]\n",
    "  \n",
    "    return top_doc_indices"
   ]
  },
  {
   "cell_type": "code",
   "execution_count": 10,
   "metadata": {},
   "outputs": [],
   "source": [
    "query = \"آدولف هیتلر شکست و مرگ\""
   ]
  },
  {
   "cell_type": "code",
   "execution_count": 11,
   "metadata": {},
   "outputs": [
    {
     "data": {
      "text/plain": [
       "[484,\n",
       " 482,\n",
       " 344,\n",
       " 345,\n",
       " 343,\n",
       " 349,\n",
       " 481,\n",
       " 341,\n",
       " 466,\n",
       " 1544,\n",
       " 342,\n",
       " 347,\n",
       " 463,\n",
       " 354,\n",
       " 220,\n",
       " 443,\n",
       " 469,\n",
       " 483,\n",
       " 442,\n",
       " 449]"
      ]
     },
     "execution_count": 11,
     "metadata": {},
     "output_type": "execute_result"
    }
   ],
   "source": [
    "tfidf_top_k(query, model_tfidf, matrix, k=20)"
   ]
  }
 ],
 "metadata": {
  "kernelspec": {
   "display_name": "Python 3 (ipykernel)",
   "language": "python",
   "name": "python3"
  },
  "language_info": {
   "codemirror_mode": {
    "name": "ipython",
    "version": 3
   },
   "file_extension": ".py",
   "mimetype": "text/x-python",
   "name": "python",
   "nbconvert_exporter": "python",
   "pygments_lexer": "ipython3",
   "version": "3.8.11"
  }
 },
 "nbformat": 4,
 "nbformat_minor": 4
}
