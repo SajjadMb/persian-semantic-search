{
 "cells": [
  {
   "cell_type": "markdown",
   "id": "5dbdb6af-f077-4eea-82d0-62778e72fc0e",
   "metadata": {},
   "source": [
    "# Parsbert "
   ]
  },
  {
   "cell_type": "markdown",
   "id": "3ed27015-0fec-4651-a09b-2b45e70d7e4b",
   "metadata": {},
   "source": [
    "### Libraries"
   ]
  },
  {
   "cell_type": "code",
   "execution_count": 1,
   "id": "17f6beac-9687-4706-996e-fba077763fbe",
   "metadata": {},
   "outputs": [],
   "source": [
    "from sklearn.feature_extraction.text import TfidfVectorizer\n",
    "from sklearn.metrics.pairwise import cosine_similarity"
   ]
  },
  {
   "cell_type": "markdown",
   "id": "bb94246e-3d21-4d5c-abbb-d43e6bc7ea2f",
   "metadata": {},
   "source": [
    "### Read data"
   ]
  },
  {
   "cell_type": "markdown",
   "id": "5b200c3d-f60f-4d7f-a875-bf7809f81d18",
   "metadata": {},
   "source": [
    "set path of data in `PATH` variable"
   ]
  },
  {
   "cell_type": "code",
   "execution_count": 2,
   "id": "f1ac1a7a-3783-4d3e-af89-a90b53bdbef2",
   "metadata": {},
   "outputs": [],
   "source": [
    "PATH = './data/IR_dataset/'\n",
    "PATH = PATH.rstrip('/')"
   ]
  },
  {
   "cell_type": "markdown",
   "id": "238f5e25-634a-42a7-9534-60dc0ff1ac2b",
   "metadata": {},
   "source": [
    "store txt files into a list named `doc`"
   ]
  },
  {
   "cell_type": "code",
   "execution_count": 13,
   "id": "0a7e16b1-c111-45b4-abd7-5ecd05e55e6d",
   "metadata": {},
   "outputs": [],
   "source": [
    "docs = []\n",
    "for index in range(0, 3258):\n",
    "    with open(f\"{PATH}/{index}.txt\", 'r', encoding='utf8') as file_reader:\n",
    "        docs.append(file_reader.read())"
   ]
  },
  {
   "cell_type": "markdown",
   "id": "b1bd952e-f5a0-476c-9a57-7629ad11dea3",
   "metadata": {
    "tags": []
   },
   "source": [
    "### Implementation"
   ]
  },
  {
   "cell_type": "code",
   "execution_count": null,
   "id": "6bcfd260-32bf-44cd-b084-3c3f37249add",
   "metadata": {},
   "outputs": [],
   "source": [
    "from transformers import AutoConfig, AutoTokenizer, AutoModel\n",
    "\n",
    "config = AutoConfig.from_pretrained(\"HooshvareLab/bert-base-parsbert-uncased\")\n",
    "tokenizer = AutoTokenizer.from_pretrained(\"HooshvareLab/bert-base-parsbert-uncased\")\n",
    "model = AutoModel.from_pretrained(\"HooshvareLab/bert-base-parsbert-uncased\")"
   ]
  }
 ],
 "metadata": {
  "kernelspec": {
   "display_name": "Python 3 (ipykernel)",
   "language": "python",
   "name": "python3"
  },
  "language_info": {
   "codemirror_mode": {
    "name": "ipython",
    "version": 3
   },
   "file_extension": ".py",
   "mimetype": "text/x-python",
   "name": "python",
   "nbconvert_exporter": "python",
   "pygments_lexer": "ipython3",
   "version": "3.8.11"
  }
 },
 "nbformat": 4,
 "nbformat_minor": 5
}
