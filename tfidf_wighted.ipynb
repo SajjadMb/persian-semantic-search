{
 "cells": [
  {
   "cell_type": "markdown",
   "id": "848b7845-9717-4a71-96bf-085c71dab412",
   "metadata": {},
   "source": [
    "# tf-idf weighted summation of embeddings"
   ]
  },
  {
   "cell_type": "markdown",
   "id": "722ae27e-ddcd-4281-af73-15a9064b82a1",
   "metadata": {},
   "source": [
    "### Libraries"
   ]
  },
  {
   "cell_type": "code",
   "execution_count": 1,
   "id": "cc21f641-1bce-48e0-9204-0bbd3f5c25a4",
   "metadata": {},
   "outputs": [],
   "source": [
    "from sklearn.feature_extraction.text import TfidfVectorizer\n",
    "from sklearn.metrics.pairwise import cosine_similarity"
   ]
  },
  {
   "cell_type": "markdown",
   "id": "4a1dbae3-37b9-4c19-a138-89117970c17a",
   "metadata": {},
   "source": [
    "### Read data"
   ]
  },
  {
   "cell_type": "markdown",
   "id": "10a35713-0355-4df1-b2be-901951ae30f7",
   "metadata": {},
   "source": [
    "set path of data in `PATH` variable"
   ]
  },
  {
   "cell_type": "code",
   "execution_count": 2,
   "id": "37ebe343-f724-40a5-9a10-0c05dd8b299d",
   "metadata": {},
   "outputs": [],
   "source": [
    "PATH = './data/IR_dataset/'\n",
    "PATH = PATH.rstrip('/')"
   ]
  },
  {
   "cell_type": "markdown",
   "id": "03221e56-2284-49f7-b604-198de75ec28f",
   "metadata": {},
   "source": [
    "store txt files into a list named `doc`"
   ]
  },
  {
   "cell_type": "code",
   "execution_count": 13,
   "id": "869bf1cc-5d85-4d16-8aa7-e9e40c6bf6db",
   "metadata": {},
   "outputs": [],
   "source": [
    "docs = []\n",
    "for index in range(0, 3258):\n",
    "    with open(f\"{PATH}/{index}.txt\", 'r', encoding='utf8') as file_reader:\n",
    "        docs.append(file_reader.read())"
   ]
  }
 ],
 "metadata": {
  "kernelspec": {
   "display_name": "Python 3 (ipykernel)",
   "language": "python",
   "name": "python3"
  },
  "language_info": {
   "codemirror_mode": {
    "name": "ipython",
    "version": 3
   },
   "file_extension": ".py",
   "mimetype": "text/x-python",
   "name": "python",
   "nbconvert_exporter": "python",
   "pygments_lexer": "ipython3",
   "version": "3.8.11"
  }
 },
 "nbformat": 4,
 "nbformat_minor": 5
}
