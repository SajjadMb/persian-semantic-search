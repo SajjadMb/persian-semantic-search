{
 "cells": [
  {
   "cell_type": "code",
   "execution_count": 2,
   "metadata": {},
   "outputs": [],
   "source": [
    "import re"
   ]
  },
  {
   "cell_type": "code",
   "execution_count": 7,
   "metadata": {},
   "outputs": [],
   "source": [
    "reg_persian = re.compile('([\\u0600-\\u06FF]+(?:\\s+[\\u0600-\\u06FF]+)*)\\s*')\n",
    "spaces_reg = re.compile(r\"[\\xad\\ufeff\\u200e\\u200d\\u200b\\x7f\\u202a\\u2003\\xa0\\u206e\\u200c\\x9d]\") \n",
    "symbols_complete_reg = re.compile(r\"(\\d|\\\"|'ٍ|¬|[؛“،,”‘۔’’‘–]|[|\\.÷+\\]\\[\\)\\(\\:\\-\\?»\\=\\{}\\*«»_…\\؟!/ـ]|[۰'ٓ۫'ٔ]|[ٓٔ]|[ًٌٍْﹼ،َُِّ«ٰ»ٖء])\")\n",
    "symbols_sentence_reg = re.compile(r\"(\\d|\\\"|'ٍ|¬|[؛“،,”‘۔’’‘–]|[|\\÷+\\]\\[\\)\\(\\:\\-\\?»\\=\\{}\\*«»_…\\/ـ]|[۰'ٓ۫'ٔ]|[ٓٔ]|[ًٌﹼ،َُ«ٰ»ٖء])\")\n",
    "\n",
    "def remeove_arabic(text):\n",
    "    # remove arabic alphabet\n",
    "    mapping = {\n",
    "        u\"ۀ\" : u\"ه\",\n",
    "        u\"ة\" : u\"ت\",\n",
    "        u\"ي\" : u\"ی\",\n",
    "        u\"ؤ\" : u\"و\",\n",
    "        u\"إ\" : u\"ا\",\n",
    "        u\"ٹ\" : u\"ت\",\n",
    "        u\"ڈ\" : u\"د\",\n",
    "        u\"ئ\" : u\"ی\",\n",
    "        u\"ﻨ\" : u\"ن\",\n",
    "        u\"ﺠ\" : u\"ج\",\n",
    "        u\"ﻣ\" : u\"م\",\n",
    "        u\"ﷲ\" : u\"\",\n",
    "        u\"ﻳ\" : u\"ی\",\n",
    "        u\"ٻ\" : u\"ب\",\n",
    "        u\"ٱ\" : u\"ا\",\n",
    "        u\"ڵ\" : u\"ل\",\n",
    "        u\"ﭘ\" : u\"پ\",\n",
    "        u\"ﻪ\" : u\"ه\",\n",
    "        u\"ﻳ\" : u\"ی\",\n",
    "        u\"ٻ\" : u\"ب\",\n",
    "        u\"ں\" : u\"ن\",\n",
    "        u\"ٶ\" : u\"و\",\n",
    "        u\"ٲ\" : u\"ا\",\n",
    "        u\"ہ\" : u\"ه\",\n",
    "        u\"ﻩ\" : u\"ه\",\n",
    "        u\"ﻩ\" : u\"ه\",\n",
    "        u\"ك\" : u\"ک\",\n",
    "        u\"ﺆ\" : u\"و\",\n",
    "        u\"أ\" : u\"ا\",\n",
    "        u\"ﺪ\" : u\"د\"\n",
    "    }\n",
    "\n",
    "    arabic_keys =  re.compile(r\"(\" + \"|\".join(mapping.keys()) + r\")\")\n",
    "    return arabic_keys.sub(lambda x: mapping[x.group()], text)\n",
    "\n",
    "\n",
    "def clean_text(text, allspace=True, punc=True, sentence=True, only_persian=True):\n",
    "    #remove sapce\n",
    "    if allspace:\n",
    "        text = re.sub(spaces_reg, \" \", text)\n",
    "    # remove punctuation\n",
    "    if punc:\n",
    "        # except dot(.)\n",
    "        if sentence:\n",
    "            text = re.sub(symbols_sentence_reg, \"\", text)\n",
    "        # all\n",
    "        else:\n",
    "            text = re.sub(symbols_complete_reg, \"\", text)\n",
    "    \n",
    "    # remove arabic letters\n",
    "    text = remeove_arabic(text)\n",
    "\n",
    "    # keep just persian letters \n",
    "    if only_persian:\n",
    "        text = ' '.join(list(filter(reg_persian.match, reg_persian.split(text))))\n",
    "    \n",
    "    # convert spaces to a one space and delete leading and trailing spaces\n",
    "    text = re.sub(\"(\\s)+\", \" \", text)\n",
    "    text = text.strip()\n",
    "    return text"
   ]
  },
  {
   "cell_type": "code",
   "execution_count": 11,
   "metadata": {},
   "outputs": [],
   "source": [
    "text = \"\"\"\n",
    "برخی از هواداران مصدق یا اعضای جبهه ملی که در زمان نخست‌وزیری مصدق، از جبهه ملی یا از هیئت‌وزیران کنار گذاشته شده یا کنار رفتند، پس از جدایی از مصدق، به انتقاد از کارنامه وی پرداختند و حتی برای سرنگونی‌اش تلاش کردند. برخی از این افراد عبارت‌اند از:\n",
    "* فضل‌الله زاهدی (نخست‌وزیر کودتا)\n",
    "* علی امینی\n",
    "* حسین مکی، (که در آغاز سرباز فداکار وطن نامیده شد ولی در پایان به دلیل مخالفت با مصدق از سوی هواداران جبهه ملی سرباز خطاکار وطن خطاب می‌شد)\n",
    "* مظفر بقایی (به دلیل اتهام مشارکت در قتل سرتیپ افشار طوس و سپس\n",
    "This is a sample text from corpus\n",
    "\"\"\""
   ]
  },
  {
   "cell_type": "code",
   "execution_count": 12,
   "metadata": {},
   "outputs": [
    {
     "data": {
      "text/plain": [
       "'برخی از هواداران مصدق یا اعضای جبهه ملی که در زمان نخست وزیری مصدق از جبهه ملی یا از هییت وزیران کنار گذاشته شده یا کنار رفتند پس از جدایی از مصدق به انتقاد از کارنامه وی پرداختند و حتی برای سرنگونی اش تلاش کردند برخی از این افراد عبارت اند از فضل الله زاهدی نخست وزیر کودتا علی امینی حسین مکی که در آغاز سرباز فداکار وطن نامیده شد ولی در پایان به دلیل مخالفت با مصدق از سوی هواداران جبهه ملی سرباز خطاکار وطن خطاب می شد مظفر بقایی به دلیل اتهام مشارکت در قتل سرتیپ افشار طوس و سپس'"
      ]
     },
     "execution_count": 12,
     "metadata": {},
     "output_type": "execute_result"
    }
   ],
   "source": [
    "clean_text(text, sentence=False, only_persian=True)"
   ]
  },
  {
   "cell_type": "code",
   "execution_count": 13,
   "metadata": {},
   "outputs": [
    {
     "data": {
      "text/plain": [
       "'برخی از هواداران مصدق یا اعضای جبهه ملی که در زمان نخست وزیری مصدق از جبهه ملی یا از هییت وزیران کنار گذاشته شده یا کنار رفتند پس از جدایی از مصدق به انتقاد از کارنامه وی پرداختند و حتی برای سرنگونی اش تلاش کردند. برخی از این افراد عبارت اند از فضل الله زاهدی نخست وزیر کودتا علی امینی حسین مکی که در آغاز سرباز فداکار وطن نامیده شد ولی در پایان به دلیل مخالفت با مصدق از سوی هواداران جبهه ملی سرباز خطاکار وطن خطاب می شد مظفر بقایی به دلیل اتهام مشارکت در قتل سرتیپ افشار طوس و سپس This is a sample text from corpus'"
      ]
     },
     "execution_count": 13,
     "metadata": {},
     "output_type": "execute_result"
    }
   ],
   "source": [
    "clean_text(text, sentence=True, only_persian=False)"
   ]
  }
 ],
 "metadata": {
  "kernelspec": {
   "display_name": "Python 3",
   "language": "python",
   "name": "python3"
  },
  "language_info": {
   "codemirror_mode": {
    "name": "ipython",
    "version": 3
   },
   "file_extension": ".py",
   "mimetype": "text/x-python",
   "name": "python",
   "nbconvert_exporter": "python",
   "pygments_lexer": "ipython3",
   "version": "3.6.5"
  }
 },
 "nbformat": 4,
 "nbformat_minor": 2
}
