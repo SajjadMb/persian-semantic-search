{
 "cells": [
  {
   "cell_type": "markdown",
   "id": "7835e6d7-4fbc-4d1b-af09-249e267d0f29",
   "metadata": {},
   "source": [
    "# Creative ASH "
   ]
  },
  {
   "cell_type": "markdown",
   "id": "edb890da-3345-4266-96a1-a6fd488c8ce1",
   "metadata": {},
   "source": [
    "### Libraries"
   ]
  },
  {
   "cell_type": "code",
   "execution_count": 1,
   "id": "f63dbeed-ff31-4e25-8853-2db964430601",
   "metadata": {},
   "outputs": [],
   "source": [
    "from sklearn.feature_extraction.text import TfidfVectorizer\n",
    "from sklearn.metrics.pairwise import cosine_similarity"
   ]
  },
  {
   "cell_type": "markdown",
   "id": "a7519cf1-39a6-4077-bd0b-0f24c3f7f1b5",
   "metadata": {},
   "source": [
    "### Read data"
   ]
  },
  {
   "cell_type": "markdown",
   "id": "c408c6e9-6fdf-44f4-bd96-489bf2a24cc2",
   "metadata": {},
   "source": [
    "set path of data in `PATH` variable"
   ]
  },
  {
   "cell_type": "code",
   "execution_count": 2,
   "id": "1da23010-594c-4377-9b08-48c8e0d077d6",
   "metadata": {},
   "outputs": [],
   "source": [
    "PATH = './data/IR_dataset/'\n",
    "PATH = PATH.rstrip('/')"
   ]
  },
  {
   "cell_type": "markdown",
   "id": "bb9ff1c3-b567-44d3-babf-6c28893c80d1",
   "metadata": {},
   "source": [
    "store txt files into a list named `doc`"
   ]
  },
  {
   "cell_type": "code",
   "execution_count": 13,
   "id": "b2a61b56-a9c4-4459-8b89-3e1838aaa667",
   "metadata": {},
   "outputs": [],
   "source": [
    "docs = []\n",
    "for index in range(0, 3258):\n",
    "    with open(f\"{PATH}/{index}.txt\", 'r', encoding='utf8') as file_reader:\n",
    "        docs.append(file_reader.read())"
   ]
  },
  {
   "cell_type": "markdown",
   "id": "da1f0e61-d7a3-4749-b129-9020af9ccc58",
   "metadata": {
    "tags": []
   },
   "source": [
    "### Implementation"
   ]
  }
 ],
 "metadata": {
  "kernelspec": {
   "display_name": "Python 3 (ipykernel)",
   "language": "python",
   "name": "python3"
  },
  "language_info": {
   "codemirror_mode": {
    "name": "ipython",
    "version": 3
   },
   "file_extension": ".py",
   "mimetype": "text/x-python",
   "name": "python",
   "nbconvert_exporter": "python",
   "pygments_lexer": "ipython3",
   "version": "3.8.11"
  }
 },
 "nbformat": 4,
 "nbformat_minor": 5
}
